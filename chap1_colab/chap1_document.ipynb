{
 "cells": [
  {
   "cell_type": "markdown",
   "metadata": {},
   "source": [
    "# 第1章 とにかくDeep Learningを体験！\n",
    "\n",
    "## Google Colaboratory上で，TensorFlow+Kerasで文字認識（MNISTデータ）をやってみよう．"
   ]
  },
  {
   "cell_type": "markdown",
   "metadata": {},
   "source": [
    "以下のリンクより， google colaboratoryから動作させる．\n",
    "\n",
    "- [Open with Colab](https://colab.research.google.com/github//crotsu/Deep_Learning_Starting_with_Examples/blob/main/chap1_colab/chap1_document.ipynb)\n",
    "\n",
    "google colaboratoryが立ち上がれば，左側の実行ボタンを押せば，Webブラウザで実行できる．  \n",
    "もし，  \n",
    "- 「動作しなくなった」\n",
    "- 「どこまで実行したかわからなくなった」\n",
    "- 「講義についていけなくなった」\n",
    "\n",
    "などの状況が発生したら，最初のページに戻ると何度でも試すことができる．  \n",
    "[第３回　AI・データサイエンスセミナー 例題からはじめるDeep Learning](https://github.com/crotsu/Deep_Learning_Starting_with_Examples)"
   ]
  },
  {
   "cell_type": "markdown",
   "metadata": {},
   "source": [
    "## さっそく動かしてみよう！"
   ]
  },
  {
   "cell_type": "code",
   "execution_count": null,
   "metadata": {},
   "outputs": [],
   "source": [
    "# TensorFlow をセットアップする\n",
    "import tensorflow as tf\n",
    "\n",
    "# MNIST（0から9の数字画像）セットを読み込む\n",
    "mnist = tf.keras.datasets.mnist\n",
    "\n",
    "(x_train, y_train), (x_test, y_test) = mnist.load_data()\n",
    "x_train, x_test = x_train / 255.0, x_test / 255.0\n",
    "\n",
    "# 機械学習モデルを構築する\n",
    "model = tf.keras.models.Sequential([\n",
    "  tf.keras.layers.Flatten(input_shape=(28, 28)),\n",
    "  tf.keras.layers.Dense(128, activation='relu'),\n",
    "  tf.keras.layers.Dropout(0.2),\n",
    "  tf.keras.layers.Dense(10)\n",
    "])\n",
    "\n",
    "# モデルの構成\n",
    "loss_fn = tf.keras.losses.SparseCategoricalCrossentropy(from_logits=True)\n",
    "model.compile(optimizer='adam',\n",
    "              loss=loss_fn,\n",
    "              metrics=['accuracy'])\n",
    "\n",
    "# 学習\n",
    "model.fit(x_train, y_train, epochs=5)\n",
    "\n",
    "# モデルの評価を行う\n",
    "model.evaluate(x_test,  y_test, verbose=2)\n",
    "\n",
    "# テストデータに対する予測を行う\n",
    "probability_model = tf.keras.Sequential([\n",
    "  model,\n",
    "  tf.keras.layers.Softmax()\n",
    "])\n",
    "\n",
    "probability_model(x_test[:5])"
   ]
  },
  {
   "cell_type": "markdown",
   "metadata": {},
   "source": [
    "## 文字認識の結果を確認してみよう"
   ]
  },
  {
   "cell_type": "code",
   "execution_count": null,
   "metadata": {},
   "outputs": [],
   "source": [
    "import numpy as np\n",
    "import matplotlib.pyplot as plt\n",
    "\n",
    "predictions = probability_model(x_test[:5])\n",
    "\n",
    "# 予測と正解を可視化して比べてみる\n",
    "for index, prediction in enumerate(predictions):\n",
    "    print(f'予測：{np.argmax(prediction)} 正解：{y_test[index]}')\n",
    "    ax = plt.subplot(3, 3, index + 1)\n",
    "    plt.imshow(x_test[index] * 255, cmap=\"gray\")\n",
    "    plt.show()"
   ]
  },
  {
   "cell_type": "markdown",
   "metadata": {},
   "source": [
    "### 参考文献\n",
    "- [初心者のための TensorFlow 2.0 入門](https://www.tensorflow.org/tutorials/quickstart/beginner?hl=ja)）\n",
    "- [TensorFlowのチュートリアルをコメント付けながら実行してみた（初心者のための_TensorFlow_2_0_入門）](https://qiita.com/penpenta/items/ee45f58d416c656639aa)"
   ]
  }
 ],
 "metadata": {
  "kernelspec": {
   "display_name": "Python 3 (ipykernel)",
   "language": "python",
   "name": "python3"
  },
  "language_info": {
   "codemirror_mode": {
    "name": "ipython",
    "version": 3
   },
   "file_extension": ".py",
   "mimetype": "text/x-python",
   "name": "python",
   "nbconvert_exporter": "python",
   "pygments_lexer": "ipython3",
   "version": "3.9.7"
  }
 },
 "nbformat": 4,
 "nbformat_minor": 2
}
