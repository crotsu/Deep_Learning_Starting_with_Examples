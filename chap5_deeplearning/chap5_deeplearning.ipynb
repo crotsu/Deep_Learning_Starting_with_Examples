{
 "cells": [
  {
   "cell_type": "markdown",
   "metadata": {},
   "source": [
    "# 第5章 再び，Deep Learning！\n",
    "\n",
    "## ニューラルネットワークの基礎理論を理解した上で，もう一度デモを動かしてみよう"
   ]
  },
  {
   "cell_type": "markdown",
   "metadata": {},
   "source": [
    "11. フレームワークを使う(TensorFlow + Keras)\n",
    "ここまで見てきたように，頑張れば自力でニューラルネットワークを実装することができる．\n",
    "しかし，とても大変だったことがわかると思う．\n",
    "さらに，今，Deep Learningの研究を行っている人が多数いる．\n",
    "その人達と成果物を共有しようとするとなると，各自が自作したプログラムでは議論が難しい．\n",
    "\n",
    "そこで，Deep Learningを動かす枠組み（フレームワーク）が多く開発されている．\n",
    "ここでは，それらの一つであるGoogleが開発したTensorFlowを紹介する．\n",
    "TensorFlowはニューラルネットワークを動かすというよりは，テンソル（3次元以上の多次元行列）の演算を行うために開発されたものである．\n",
    "もちろん，Deep Learningのために開発されたのであるが，ニューラルネットワークは行列の演算を多く行う．\n",
    "そのため，行列演算のために，しかも並列計算が可能になるように開発されたものがTensorFlowである．\n",
    "\n",
    "さらに，　KerasはTensorFlowのフロントエンドあり，Deep Learningのモデルを短い記述で実装できる．\n",
    "一般的に，TensorFlowでDeep Learningを実装しようとすると，Kerasを用いる．\n",
    "\n",
    "TensorFlow + Kerasを使えば簡単に実装できる．\n",
    "ニューラルネットワークの構造を変えたり，活性化関数を変更したり，最適化のアルゴリズムを変更したり，とにかくいろいろできる．\n",
    "さらに，グラフを表示したり，ネットワークの出力を可視化したり，とにかく機能が豊富である．\n",
    "\n",
    "そのため，せっかく簡単に記述できるにも関わらず，とても複雑になり，初心者にはわかりにくいサンプルプログラムをが多い．\n",
    "そこで，下記のプログラムはこれまで説明してきたXORを，TensorFlow + Kerasで短く，わかりやすく記述することを目的とする．"
   ]
  },
  {
   "cell_type": "markdown",
   "metadata": {},
   "source": [
    "## 一つずつ動かしてみよう"
   ]
  },
  {
   "cell_type": "code",
   "execution_count": null,
   "metadata": {},
   "outputs": [],
   "source": [
    "# TensorFlow をセットアップする\n",
    "import tensorflow as tf\n",
    "\n",
    "# MNIST（0から9の数字画像）セットを読み込む\n",
    "mnist = tf.keras.datasets.mnist\n",
    "\n",
    "(x_train, y_train), (x_test, y_test) = mnist.load_data()\n",
    "x_train, x_test = x_train / 255.0, x_test / 255.0\n",
    "\n",
    "# 機械学習モデルを構築する\n",
    "model = tf.keras.models.Sequential([\n",
    "  tf.keras.layers.Flatten(input_shape=(28, 28)),\n",
    "  tf.keras.layers.Dense(128, activation='relu'),\n",
    "  tf.keras.layers.Dropout(0.2),\n",
    "  tf.keras.layers.Dense(10)\n",
    "])\n",
    "\n",
    "# モデルの構成\n",
    "loss_fn = tf.keras.losses.SparseCategoricalCrossentropy(from_logits=True)\n",
    "model.compile(optimizer='adam',\n",
    "              loss=loss_fn,\n",
    "              metrics=['accuracy'])\n",
    "\n",
    "# 学習\n",
    "model.fit(x_train, y_train, epochs=5)\n",
    "\n",
    "# モデルの評価を行う\n",
    "model.evaluate(x_test,  y_test, verbose=2)\n",
    "\n",
    "# テストデータに対する予測を行う\n",
    "probability_model = tf.keras.Sequential([\n",
    "  model,\n",
    "  tf.keras.layers.Softmax()\n",
    "])\n",
    "\n",
    "probability_model(x_test[:5])"
   ]
  },
  {
   "cell_type": "markdown",
   "metadata": {},
   "source": [
    "これまでニューラルネットワークを自作することで動作させてきた"
   ]
  },
  {
   "cell_type": "code",
   "execution_count": null,
   "metadata": {},
   "outputs": [],
   "source": [
    "# TensorFlow をセットアップする\n",
    "import tensorflow as tf"
   ]
  },
  {
   "cell_type": "markdown",
   "metadata": {},
   "source": [
    "## 文字認識の結果を確認してみよう"
   ]
  },
  {
   "cell_type": "code",
   "execution_count": null,
   "metadata": {},
   "outputs": [],
   "source": [
    "import numpy as np\n",
    "import matplotlib.pyplot as plt\n",
    "\n",
    "predictions = probability_model(x_test[:5])\n",
    "\n",
    "# 予測と正解を可視化して比べてみる\n",
    "for index, prediction in enumerate(predictions):\n",
    "    print(f'予測：{np.argmax(prediction)} 正解：{y_test[index]}')\n",
    "    ax = plt.subplot(3, 3, index + 1)\n",
    "    plt.imshow(x_test[index] * 255, cmap=\"gray\")\n",
    "    plt.show()"
   ]
  },
  {
   "cell_type": "markdown",
   "metadata": {},
   "source": [
    "### 参考文献\n",
    "- [初心者のための TensorFlow 2.0 入門](https://www.tensorflow.org/tutorials/quickstart/beginner?hl=ja)\n",
    "- [TensorFlowのチュートリアルをコメント付けながら実行してみた（初心者のための_TensorFlow_2_0_入門）](https://qiita.com/penpenta/items/ee45f58d416c656639aa)"
   ]
  },
  {
   "cell_type": "markdown",
   "metadata": {},
   "source": [
    "[講義資料に戻る](https://github.com/crotsu/Deep_Learning_Starting_with_Examples)"
   ]
  },
  {
   "cell_type": "markdown",
   "metadata": {},
   "source": [
    "このページは[このリンク](https://colab.research.google.com/github/crotsu/Deep_Learning_Starting_with_Examples/blob/main/chap5_deeplearning/chap5_document.ipynb)よりgoogle colaboratoryで動作させることができる．  "
   ]
  }
 ],
 "metadata": {
  "kernelspec": {
   "display_name": "Python 3 (ipykernel)",
   "language": "python",
   "name": "python3"
  },
  "language_info": {
   "codemirror_mode": {
    "name": "ipython",
    "version": 3
   },
   "file_extension": ".py",
   "mimetype": "text/x-python",
   "name": "python",
   "nbconvert_exporter": "python",
   "pygments_lexer": "ipython3",
   "version": "3.9.16"
  }
 },
 "nbformat": 4,
 "nbformat_minor": 2
}
