{
 "cells": [
  {
   "cell_type": "markdown",
   "metadata": {},
   "source": [
    "# 第1章 とにかくDeep Learningを体験！\n",
    "\n",
    "## Google Colaboratory上で，TensorFlowによる文字認識（MNISTデータ）をやってみよう．"
   ]
  },
  {
   "cell_type": "markdown",
   "metadata": {},
   "source": [
    "## MNISTデータセット\n",
    "\n",
    "MNIST，手書き数字画像のデータセットである．  \n",
    "米国商務省配下の研究所が構築したこのデータベースは，機械学習分野での学習や評価に広く用いられている．  \n",
    "<img src=\"img/MnistExamples.png\">\n",
    "<div style=\"text-align: center;\">\n",
    "図1.  MNISTテストデータセットのサンプル\n",
    "</div>\n",
    "\n",
    "参考文献:\n",
    "[MNISTデータベース](https://ja.wikipedia.org/wiki/MNIST%E3%83%87%E3%83%BC%E3%82%BF%E3%83%99%E3%83%BC%E3%82%B9)"
   ]
  },
  {
   "cell_type": "markdown",
   "metadata": {},
   "source": [
    "## さっそく動かしてみよう！"
   ]
  },
  {
   "cell_type": "code",
   "execution_count": 1,
   "metadata": {},
   "outputs": [
    {
     "name": "stdout",
     "output_type": "stream",
     "text": [
      "Metal device set to: Apple M1 Max\n"
     ]
    },
    {
     "name": "stderr",
     "output_type": "stream",
     "text": [
      "2023-02-26 10:01:29.965184: I tensorflow/core/common_runtime/pluggable_device/pluggable_device_factory.cc:305] Could not identify NUMA node of platform GPU ID 0, defaulting to 0. Your kernel may not have been built with NUMA support.\n",
      "2023-02-26 10:01:29.965685: I tensorflow/core/common_runtime/pluggable_device/pluggable_device_factory.cc:271] Created TensorFlow device (/job:localhost/replica:0/task:0/device:GPU:0 with 0 MB memory) -> physical PluggableDevice (device: 0, name: METAL, pci bus id: <undefined>)\n",
      "2023-02-26 10:01:30.176038: W tensorflow/core/platform/profile_utils/cpu_utils.cc:128] Failed to get CPU frequency: 0 Hz\n"
     ]
    },
    {
     "name": "stdout",
     "output_type": "stream",
     "text": [
      "Epoch 1/5\n",
      "   1/1875 [..............................] - ETA: 9:59 - loss: 2.4758 - accuracy: 0.0312"
     ]
    },
    {
     "name": "stderr",
     "output_type": "stream",
     "text": [
      "2023-02-26 10:01:30.363661: I tensorflow/core/grappler/optimizers/custom_graph_optimizer_registry.cc:113] Plugin optimizer for device_type GPU is enabled.\n"
     ]
    },
    {
     "name": "stdout",
     "output_type": "stream",
     "text": [
      "1875/1875 [==============================] - 10s 5ms/step - loss: 0.2867 - accuracy: 0.9172\n",
      "Epoch 2/5\n",
      "1875/1875 [==============================] - 10s 5ms/step - loss: 0.1336 - accuracy: 0.9602\n",
      "Epoch 3/5\n",
      "1875/1875 [==============================] - 9s 5ms/step - loss: 0.0988 - accuracy: 0.9701\n",
      "Epoch 4/5\n",
      "1875/1875 [==============================] - 10s 5ms/step - loss: 0.0795 - accuracy: 0.9755\n",
      "Epoch 5/5\n",
      "1875/1875 [==============================] - 10s 5ms/step - loss: 0.0679 - accuracy: 0.9785\n"
     ]
    },
    {
     "name": "stderr",
     "output_type": "stream",
     "text": [
      "2023-02-26 10:02:18.389827: I tensorflow/core/grappler/optimizers/custom_graph_optimizer_registry.cc:113] Plugin optimizer for device_type GPU is enabled.\n"
     ]
    },
    {
     "name": "stdout",
     "output_type": "stream",
     "text": [
      "313/313 - 1s - loss: 0.0742 - accuracy: 0.9774 - 1s/epoch - 4ms/step\n"
     ]
    },
    {
     "data": {
      "text/plain": [
       "<tf.Tensor: shape=(5, 10), dtype=float32, numpy=\n",
       "array([[7.4694967e-08, 3.3039380e-09, 1.6087948e-06, 3.5667367e-04,\n",
       "        2.1190740e-11, 4.7443132e-07, 1.6143265e-13, 9.9960095e-01,\n",
       "        5.2066393e-06, 3.4999892e-05],\n",
       "       [3.6567146e-06, 5.0954765e-04, 9.9947232e-01, 1.3757899e-05,\n",
       "        2.3838796e-11, 2.0970278e-07, 2.8991332e-07, 9.5672515e-12,\n",
       "        3.2444825e-07, 1.0448526e-12],\n",
       "       [2.1636801e-07, 9.9776131e-01, 5.9609069e-04, 8.0029451e-05,\n",
       "        1.4707148e-04, 4.2889766e-05, 5.7989786e-05, 1.0026129e-03,\n",
       "        3.0216921e-04, 9.5870146e-06],\n",
       "       [9.9997616e-01, 8.6125707e-10, 1.2127677e-05, 3.6793679e-09,\n",
       "        8.2665940e-07, 2.0464769e-07, 8.9652103e-06, 1.8800696e-08,\n",
       "        2.0677667e-10, 1.6271520e-06],\n",
       "       [1.6972085e-06, 5.6672350e-10, 1.7289651e-06, 1.4510196e-09,\n",
       "        9.9560654e-01, 6.7167534e-08, 5.3954921e-07, 4.2582757e-05,\n",
       "        2.1121551e-07, 4.3466697e-03]], dtype=float32)>"
      ]
     },
     "execution_count": 1,
     "metadata": {},
     "output_type": "execute_result"
    }
   ],
   "source": [
    "# TensorFlow をセットアップする\n",
    "import tensorflow as tf\n",
    "\n",
    "# MNIST（0から9の数字画像）セットを読み込む\n",
    "mnist = tf.keras.datasets.mnist\n",
    "\n",
    "(x_train, y_train), (x_test, y_test) = mnist.load_data()\n",
    "x_train, x_test = x_train / 255.0, x_test / 255.0\n",
    "\n",
    "# 機械学習モデルを構築する\n",
    "model = tf.keras.models.Sequential([\n",
    "  tf.keras.layers.Flatten(input_shape=(28, 28)),\n",
    "  tf.keras.layers.Dense(128, activation='relu'),\n",
    "  tf.keras.layers.Dropout(0.2),\n",
    "  tf.keras.layers.Dense(10)\n",
    "])\n",
    "\n",
    "# モデルの構成\n",
    "loss_fn = tf.keras.losses.SparseCategoricalCrossentropy(from_logits=True)\n",
    "model.compile(optimizer='adam',\n",
    "              loss=loss_fn,\n",
    "              metrics=['accuracy'])\n",
    "\n",
    "# 学習\n",
    "model.fit(x_train, y_train, epochs=5)\n",
    "\n",
    "# モデルの評価を行う\n",
    "model.evaluate(x_test,  y_test, verbose=2)\n",
    "\n",
    "# テストデータに対する予測を行う\n",
    "probability_model = tf.keras.Sequential([\n",
    "  model,\n",
    "  tf.keras.layers.Softmax()\n",
    "])\n",
    "\n",
    "probability_model(x_test[:5])"
   ]
  },
  {
   "cell_type": "markdown",
   "metadata": {},
   "source": [
    "## 文字認識の結果を確認してみよう"
   ]
  },
  {
   "cell_type": "code",
   "execution_count": 2,
   "metadata": {},
   "outputs": [
    {
     "name": "stdout",
     "output_type": "stream",
     "text": [
      "予測：7 正解：7\n"
     ]
    },
    {
     "data": {
      "image/png": "[encoded data removed]",
      "text/plain": [
       "<Figure size 640x480 with 1 Axes>"
      ]
     },
     "metadata": {},
     "output_type": "display_data"
    },
    {
     "name": "stdout",
     "output_type": "stream",
     "text": [
      "予測：2 正解：2\n"
     ]
    },
    {
     "data": {
      "image/png": "[encoded data removed]",
      "text/plain": [
       "<Figure size 640x480 with 1 Axes>"
      ]
     },
     "metadata": {},
     "output_type": "display_data"
    },
    {
     "name": "stdout",
     "output_type": "stream",
     "text": [
      "予測：1 正解：1\n"
     ]
    },
    {
     "data": {
      "image/png": "[encoded data removed]",
      "text/plain": [
       "<Figure size 640x480 with 1 Axes>"
      ]
     },
     "metadata": {},
     "output_type": "display_data"
    },
    {
     "name": "stdout",
     "output_type": "stream",
     "text": [
      "予測：0 正解：0\n"
     ]
    },
    {
     "data": {
      "image/png": "[encoded data removed]",
      "text/plain": [
       "<Figure size 640x480 with 1 Axes>"
      ]
     },
     "metadata": {},
     "output_type": "display_data"
    },
    {
     "name": "stdout",
     "output_type": "stream",
     "text": [
      "予測：4 正解：4\n"
     ]
    },
    {
     "data": {
      "image/png": "[encoded data removed]",
      "text/plain": [
       "<Figure size 640x480 with 1 Axes>"
      ]
     },
     "metadata": {},
     "output_type": "display_data"
    }
   ],
   "source": [
    "import numpy as np\n",
    "import matplotlib.pyplot as plt\n",
    "\n",
    "predictions = probability_model(x_test[:5])\n",
    "\n",
    "# 予測と正解を可視化して比べてみる\n",
    "for index, prediction in enumerate(predictions):\n",
    "    print(f'予測：{np.argmax(prediction)} 正解：{y_test[index]}')\n",
    "    ax = plt.subplot(3, 3, index + 1)\n",
    "    plt.imshow(x_test[index] * 255, cmap=\"gray\")\n",
    "    plt.show()"
   ]
  },
  {
   "cell_type": "markdown",
   "metadata": {},
   "source": [
    "### 参考文献\n",
    "- [初心者のための TensorFlow 2.0 入門](https://www.tensorflow.org/tutorials/quickstart/beginner?hl=ja)\n",
    "- [TensorFlowのチュートリアルをコメント付けながら実行してみた（初心者のための_TensorFlow_2_0_入門）](https://qiita.com/penpenta/items/ee45f58d416c656639aa)"
   ]
  },
  {
   "cell_type": "markdown",
   "metadata": {},
   "source": [
    "[講義資料に戻る](https://github.com/crotsu/Deep_Learning_Starting_with_Examples)"
   ]
  },
  {
   "cell_type": "markdown",
   "metadata": {},
   "source": [
    "このページは[このリンク](https://colab.research.google.com/github/crotsu/Deep_Learning_Starting_with_Examples/blob/main/chap1_deeplearning/chap1_document.ipynb)よりgoogle colaboratoryで動作させることができる．  "
   ]
  }
 ],
 "metadata": {
  "kernelspec": {
   "display_name": "Python 3 (ipykernel)",
   "language": "python",
   "name": "python3"
  },
  "language_info": {
   "codemirror_mode": {
    "name": "ipython",
    "version": 3
   },
   "file_extension": ".py",
   "mimetype": "text/x-python",
   "name": "python",
   "nbconvert_exporter": "python",
   "pygments_lexer": "ipython3",
   "version": "3.9.16"
  }
 },
 "nbformat": 4,
 "nbformat_minor": 2
}
