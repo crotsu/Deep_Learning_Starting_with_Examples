{
 "cells": [
  {
   "cell_type": "markdown",
   "metadata": {},
   "source": [
    "# 第0章 Google Colaboratoryの準備"
   ]
  },
  {
   "cell_type": "markdown",
   "metadata": {},
   "source": [
    "<span style=\"font-size: 150%; color: red;\">本セミナーでは，Google Colaboratory上で実習を行います．</span>"
   ]
  },
  {
   "cell_type": "markdown",
   "metadata": {},
   "source": [
    "<span style=\"font-size: 150%; color: red;\">スムーズに聴講できるように事前にGoogle Colaboratoryの動作確認を行っておいてください．  </span>"
   ]
  },
  {
   "cell_type": "markdown",
   "metadata": {},
   "source": [
    "### 以下の手順にしたがってGoogle Colaboratoryの動作確認を行う"
   ]
  },
  {
   "cell_type": "markdown",
   "metadata": {},
   "source": [
    "1. Googleアカウントを用意し，ログインする．\n",
    "1. 講義資料にアクセスし，動作確認を行う．"
   ]
  },
  {
   "cell_type": "markdown",
   "metadata": {},
   "source": [
    "## 1 Googleアカウントの用意\n"
   ]
  },
  {
   "cell_type": "markdown",
   "metadata": {},
   "source": [
    "Google Colaboratoryを利用するには，Googleアカウントが必要です．  \n",
    "アカウントをお持ちでなければ，[Gooleログインページ](https://accounts.google.com)でアカウントを作成してください．  \n",
    "利用するブラウザはChromeを推奨します．  \n",
    "Chrome上でgoogleアカウントにログインした状態にしておいてください．\n",
    "<p><img src=\"img/create_google_account.png\" alt=\"Googleのログインページ\" /></p> "
   ]
  },
  {
   "cell_type": "markdown",
   "metadata": {},
   "source": [
    "## 2 講義資料にアクセスし，動作確認を行う"
   ]
  },
  {
   "cell_type": "markdown",
   "metadata": {},
   "source": [
    "[次のリンク](https://colab.research.google.com/github/crotsu/Deep_Learning_Starting_with_Examples/blob/main/chap0_colab/test.ipynb)にアクセスし，動作確認を行う．"
   ]
  }
 ],
 "metadata": {
  "kernelspec": {
   "display_name": "Python 3 (ipykernel)",
   "language": "python",
   "name": "python3"
  },
  "language_info": {
   "codemirror_mode": {
    "name": "ipython",
    "version": 3
   },
   "file_extension": ".py",
   "mimetype": "text/x-python",
   "name": "python",
   "nbconvert_exporter": "python",
   "pygments_lexer": "ipython3",
   "version": "3.9.16"
  }
 },
 "nbformat": 4,
 "nbformat_minor": 2
}
