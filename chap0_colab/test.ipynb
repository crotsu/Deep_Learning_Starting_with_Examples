{
 "cells": [
  {
   "cell_type": "code",
   "execution_count": null,
   "id": "9fc46433",
   "metadata": {},
   "outputs": [],
   "source": [
    "# 1から10の和を求めるプログラム\n",
    "total = 0\n",
    "for i in range(11):\n",
    "    total += i\n",
    "print(total)"
   ]
  }
 ],
 "metadata": {
  "kernelspec": {
   "display_name": "Python 3 (ipykernel)",
   "language": "python",
   "name": "python3"
  },
  "language_info": {
   "codemirror_mode": {
    "name": "ipython",
    "version": 3
   },
   "file_extension": ".py",
   "mimetype": "text/x-python",
   "name": "python",
   "nbconvert_exporter": "python",
   "pygments_lexer": "ipython3",
   "version": "3.9.16"
  }
 },
 "nbformat": 4,
 "nbformat_minor": 5
}
