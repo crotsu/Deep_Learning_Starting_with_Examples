{
 "cells": [
  {
   "cell_type": "code",
   "execution_count": 4,
   "id": "0aad5294",
   "metadata": {},
   "outputs": [
    {
     "name": "stdout",
     "output_type": "stream",
     "text": [
      "55\n"
     ]
    }
   ],
   "source": [
    "# 1から10の和を求めるプログラム\n",
    "total = 0\n",
    "for i in range(11):\n",
    "    total += i\n",
    "print(total)"
   ]
  },
  {
   "cell_type": "markdown",
   "id": "c61f1a81",
   "metadata": {},
   "source": [
    "<p><img src=\"img/test1.png\" alt=\"動作確認\" width=\"75%\"></p> "
   ]
  },
  {
   "cell_type": "markdown",
   "id": "4b8abf6a",
   "metadata": {},
   "source": [
    "<p><img src=\"img/test2.png\" alt=\"動作確認\" width=\"75%\"></p> "
   ]
  },
  {
   "cell_type": "markdown",
   "id": "b9eabc27",
   "metadata": {},
   "source": [
    "<p><img src=\"img/test3.png\" alt=\"動作確認\" width=\"75%\"></p> "
   ]
  },
  {
   "cell_type": "markdown",
   "id": "d27d6f37",
   "metadata": {},
   "source": [
    "[講義資料に戻る](https://github.com/crotsu/Deep_Learning_Starting_with_Examples)"
   ]
  }
 ],
 "metadata": {
  "kernelspec": {
   "display_name": "Python 3 (ipykernel)",
   "language": "python",
   "name": "python3"
  },
  "language_info": {
   "codemirror_mode": {
    "name": "ipython",
    "version": 3
   },
   "file_extension": ".py",
   "mimetype": "text/x-python",
   "name": "python",
   "nbconvert_exporter": "python",
   "pygments_lexer": "ipython3",
   "version": "3.9.16"
  }
 },
 "nbformat": 4,
 "nbformat_minor": 5
}
