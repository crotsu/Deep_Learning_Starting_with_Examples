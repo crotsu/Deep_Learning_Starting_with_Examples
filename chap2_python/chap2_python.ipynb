{
 "cells": [
  {
   "cell_type": "markdown",
   "metadata": {},
   "source": [
    "# 第2章 Python超高速入門"
   ]
  },
  {
   "cell_type": "markdown",
   "metadata": {},
   "source": [
    "近年，Pythonには機械学習の各種手法のライブラリが充実し，頻繁に用いられる．  \n",
    "そこで，ごく簡単にPythonとその数値計算ライブラリのNumpyの紹介を行う．"
   ]
  },
  {
   "cell_type": "markdown",
   "metadata": {},
   "source": [
    "# Python基礎"
   ]
  },
  {
   "cell_type": "markdown",
   "metadata": {},
   "source": [
    "## 変数と標準出力\n",
    "よくあるプログラミング言語と同様に=を使って，右辺の値を左辺の変数に代入する．  \n",
    "C言語のように変数宣言はない．  \n",
    "行末に;（セミコロン）がいらない．  "
   ]
  },
  {
   "cell_type": "code",
   "execution_count": null,
   "metadata": {},
   "outputs": [],
   "source": [
    "a = 8\n",
    "b = 3\n",
    "c = a + b\n",
    "print(c)"
   ]
  },
  {
   "cell_type": "markdown",
   "metadata": {},
   "source": [
    "## リスト\n",
    "Pythonには配列はない．  \n",
    "代わりに，それよりも便利なリストがある．  \n",
    "リストを配列のように使う．"
   ]
  },
  {
   "cell_type": "code",
   "execution_count": null,
   "metadata": {},
   "outputs": [],
   "source": [
    "a = [10, 11, 12, 13, 14]\n",
    "print(a[0])\n",
    "print(a[1])"
   ]
  },
  {
   "cell_type": "markdown",
   "metadata": {},
   "source": [
    "リストにリストを格納することもできる．  \n",
    "これで多次元配列を実現できる．"
   ]
  },
  {
   "cell_type": "code",
   "execution_count": null,
   "metadata": {},
   "outputs": [],
   "source": [
    "a = [[1,2,3], [4,5,6]]\n",
    "print(a[0])\n",
    "print(a[0][1])"
   ]
  },
  {
   "cell_type": "markdown",
   "metadata": {},
   "source": [
    "## 繰り返し"
   ]
  },
  {
   "cell_type": "markdown",
   "metadata": {},
   "source": [
    "繰り返しはwhileとforがある．"
   ]
  },
  {
   "cell_type": "markdown",
   "metadata": {},
   "source": [
    "### while\n",
    "まずwhileから説明する．大きな注意点が2つある．  \n",
    "注意1. Pythonでびっくりするのが，while, if, 関数などのブロックを表すとき，{ } などの括弧ではなく，タブを使う．  \n",
    "注意2. インクリメントはない．つまり，i++はできない．i=i+1 あるいは i += 1と記述する．"
   ]
  },
  {
   "cell_type": "code",
   "execution_count": null,
   "metadata": {},
   "outputs": [],
   "source": [
    "i=0\n",
    "while i<3:\n",
    "    print(i)\n",
    "    i += 1"
   ]
  },
  {
   "cell_type": "markdown",
   "metadata": {},
   "source": [
    "### for\n",
    "\n",
    "forも繰り返しだが，whileと違って，listの中身を順番に取り出すために用いる．\n",
    "\n",
    "基本的には以下のようになる．"
   ]
  },
  {
   "cell_type": "code",
   "execution_count": null,
   "metadata": {},
   "outputs": [],
   "source": [
    "a=[0,1,2]\n",
    "for i in a:\n",
    "    print(i)"
   ]
  },
  {
   "cell_type": "markdown",
   "metadata": {},
   "source": [
    "range()と組み合わせると，whileと同じ動作をさせることができる．\n",
    "\n",
    "注意： range(3)で[0,1,2]のリストを作る．これをひとつずつ取り出している．"
   ]
  },
  {
   "cell_type": "code",
   "execution_count": null,
   "metadata": {},
   "outputs": [],
   "source": [
    "for i in range(3):\n",
    "    print(i)"
   ]
  },
  {
   "cell_type": "markdown",
   "metadata": {},
   "source": [
    "つまり，以下のようなことも可能．（リストの中身を順番に取り出している）"
   ]
  },
  {
   "cell_type": "code",
   "execution_count": null,
   "metadata": {},
   "outputs": [],
   "source": [
    "a = [10, 11, 12, 13, 14]\n",
    "for i in a:\n",
    "    print(i)"
   ]
  },
  {
   "cell_type": "markdown",
   "metadata": {},
   "source": [
    "## 条件分岐\n",
    "\n",
    "一般的なif文と同様に用いる．"
   ]
  },
  {
   "cell_type": "code",
   "execution_count": null,
   "metadata": {},
   "outputs": [],
   "source": [
    "a = 2\n",
    "\n",
    "if a==1:\n",
    "    print(\"One\")\n",
    "elif a==2:\n",
    "    print(\"Two\")\n",
    "else:\n",
    "    print(\"Others\")"
   ]
  },
  {
   "cell_type": "markdown",
   "metadata": {},
   "source": [
    "## 関数\n",
    "次のように定義して用いる．\n",
    "Pythonは，入力された変数によって挙動を変えるので，引数や戻り値に型の指定は不要である．"
   ]
  },
  {
   "cell_type": "code",
   "execution_count": null,
   "metadata": {},
   "outputs": [],
   "source": [
    "def func(x):\n",
    "    y = x*2-8\n",
    "    return y\n",
    "\n",
    "num = 5\n",
    "ans = func(num)\n",
    "print(ans)"
   ]
  },
  {
   "cell_type": "markdown",
   "metadata": {},
   "source": [
    "また，複数の戻り値を返すことができる．"
   ]
  },
  {
   "cell_type": "code",
   "execution_count": null,
   "metadata": {},
   "outputs": [],
   "source": [
    "def func(x):\n",
    "    y = x*100\n",
    "    z = x*2\n",
    "    return y, z\n",
    "\n",
    "num = 123\n",
    "ans1, ans2 = func(num)\n",
    "print(ans1, ans2)"
   ]
  },
  {
   "cell_type": "markdown",
   "metadata": {},
   "source": [
    "## 演習\n",
    "\n",
    "問1． 1から100までを足してみよう． それができたら1から100までの内，3の倍数の和を求めてみよう．"
   ]
  },
  {
   "cell_type": "code",
   "execution_count": null,
   "metadata": {},
   "outputs": [],
   "source": []
  },
  {
   "cell_type": "markdown",
   "metadata": {},
   "source": [
    "[問1の解答](./program/chap2_1.py)"
   ]
  },
  {
   "cell_type": "markdown",
   "metadata": {},
   "source": [
    "# Numpy基礎"
   ]
  },
  {
   "cell_type": "markdown",
   "metadata": {},
   "source": [
    "Numpyは数値計算ライブラリである．  \n",
    "ベクトルや行列演算を行うときに用いる．  \n",
    "また，連立一次方程式などのソルバーもある．"
   ]
  },
  {
   "cell_type": "code",
   "execution_count": null,
   "metadata": {},
   "outputs": [],
   "source": [
    "# numpyをインポートして名前をnpにする．numpyのメソッドは，np.***で使える．\n",
    "import numpy as np"
   ]
  },
  {
   "cell_type": "code",
   "execution_count": null,
   "metadata": {},
   "outputs": [],
   "source": [
    "# 行列\n",
    "A = np.array([[1,2,3],[4,5,6],[7,8,9]])\n",
    "A"
   ]
  },
  {
   "cell_type": "code",
   "execution_count": null,
   "metadata": {},
   "outputs": [],
   "source": [
    "# ベクトル\n",
    "x = np.array([[1],[2],[3]])\n",
    "print(x)"
   ]
  },
  {
   "cell_type": "code",
   "execution_count": null,
   "metadata": {},
   "outputs": [],
   "source": [
    "# 行列とベクトルの演算\n",
    "b = np.dot(A, x)\n",
    "print(b)"
   ]
  },
  {
   "cell_type": "code",
   "execution_count": null,
   "metadata": {},
   "outputs": [],
   "source": [
    "# こちらは違う\n",
    "A * x"
   ]
  },
  {
   "cell_type": "code",
   "execution_count": null,
   "metadata": {},
   "outputs": [],
   "source": [
    "#  定数倍\n",
    "A * 2"
   ]
  },
  {
   "cell_type": "code",
   "execution_count": null,
   "metadata": {},
   "outputs": [],
   "source": [
    "# 転値\n",
    "A = np.array([[1,2],[3,4]])\n",
    "print(A)\n",
    "print(A.T)"
   ]
  },
  {
   "cell_type": "markdown",
   "metadata": {},
   "source": [
    "## 演習\n",
    "問2. 次の行列A，Bが与えられているとき，以下の行列Cを計算せよ．  \n",
    "\n",
    "$$\n",
    "A = \n",
    "\\begin{pmatrix}\n",
    "    2 & 0\\\\\n",
    "    1 & 1\n",
    "\\end{pmatrix}\n",
    "$$\n",
    "\n",
    "$$\n",
    "B = \n",
    "\\begin{pmatrix}\n",
    "    5 & 7\\\\\n",
    "    2 & 0\n",
    "\\end{pmatrix}\n",
    "$$\n",
    "\n",
    "$$\n",
    "C=A^T \\times B\n",
    "$$"
   ]
  },
  {
   "cell_type": "code",
   "execution_count": null,
   "metadata": {},
   "outputs": [],
   "source": [
    "A = np.array([[2,0],[1,1]])\n",
    "B = np.array([[5,7],[2,0]])"
   ]
  },
  {
   "cell_type": "code",
   "execution_count": null,
   "metadata": {},
   "outputs": [],
   "source": []
  },
  {
   "cell_type": "markdown",
   "metadata": {},
   "source": [
    "[問2の解答](./program/chap2_2.py)  "
   ]
  },
  {
   "cell_type": "markdown",
   "metadata": {},
   "source": [
    "## 連立1次方程式を解いてみる"
   ]
  },
  {
   "cell_type": "markdown",
   "metadata": {},
   "source": [
    "次の連立一次方程式を解いてみよう．\n",
    "$$\n",
    "\\begin{cases}\n",
    "    x+5y=15\\\\\n",
    "    -2x+y=-8\n",
    "\\end{cases}\n",
    "$$"
   ]
  },
  {
   "cell_type": "code",
   "execution_count": null,
   "metadata": {},
   "outputs": [],
   "source": [
    "# 行列A\n",
    "A = np.array([[1,5],[-2,1]])\n",
    "\n",
    "# ベクトルb\n",
    "b = np.array([[15],[-8]])"
   ]
  },
  {
   "cell_type": "code",
   "execution_count": null,
   "metadata": {},
   "outputs": [],
   "source": [
    "# 連立1次方程式Ax = bを解く\n",
    "#\n",
    "# 公式を使って逆行列を求めて，解を求める\n",
    "\n",
    "invA = 1/(A[0,0]*A[1,1] - A[0,1]*A[1,0])*np.array([[A[1,1],-1*A[0,1]],[-1*A[1,0],A[0,0]]])\n",
    "x = np.dot(invA, b)\n",
    "print(x)"
   ]
  },
  {
   "cell_type": "markdown",
   "metadata": {},
   "source": [
    "2行2列の行列Aの逆行列は以下の公式で求められる．  \n",
    "$$\n",
    "A = \n",
    "\\begin{pmatrix}\n",
    "    a & b\\\\\n",
    "    c & d\n",
    "\\end{pmatrix}\n",
    "$$\n",
    "\n",
    "$$\n",
    "A^{-1}\n",
    "=\n",
    "\\frac{1}{ad-bc}\n",
    "\\begin{pmatrix}\n",
    "    d & -b\\\\\n",
    "    -c & a\n",
    "\\end{pmatrix}\n",
    "$$"
   ]
  },
  {
   "cell_type": "code",
   "execution_count": null,
   "metadata": {},
   "outputs": [],
   "source": [
    "# 連立1次方程式Ax = bを解く\n",
    "#\n",
    "# Numpyで逆行列を求めて，解を求める\n",
    "\n",
    "invA = np.linalg.inv(A)\n",
    "x = np.dot(invA, b)\n",
    "print(x)"
   ]
  },
  {
   "cell_type": "code",
   "execution_count": null,
   "metadata": {},
   "outputs": [],
   "source": [
    "# 連立1次方程式Ax = bを解く\n",
    "#\n",
    "# Numpyで連立1次方程式を解く\n",
    "\n",
    "x = np.linalg.solve(A, b)\n",
    "print(x)"
   ]
  },
  {
   "cell_type": "markdown",
   "metadata": {},
   "source": [
    "この連立一次方程式の係数を\n",
    "$$\n",
    "\\begin{cases}\n",
    "    x+5y=15\\\\\n",
    "    -2x+y=-8\n",
    "\\end{cases}\n",
    "$$\n",
    "行列$A$，ベクトル$\\boldsymbol{x}，\\boldsymbol{b}$で表現すると"
   ]
  },
  {
   "cell_type": "markdown",
   "metadata": {},
   "source": [
    "$$\n",
    "A = \n",
    "\\begin{pmatrix}\n",
    "    1 & 5\\\\\n",
    "    -2 & 1\n",
    "\\end{pmatrix}\n",
    "$$\n",
    "\n",
    "$$\n",
    "\\boldsymbol{x} = \n",
    "\\begin{pmatrix}\n",
    "    x\\\\\n",
    "    y\n",
    "\\end{pmatrix}\n",
    "$$\n",
    "\n",
    "$$\n",
    "\\boldsymbol{b} = \n",
    "\\begin{pmatrix}\n",
    "    15\\\\\n",
    "    -8\n",
    "\\end{pmatrix}\n",
    "$$\n",
    "となる．\n",
    "\n",
    "したがって，上記の連立一次方程式は\n",
    "$$\n",
    "A\\boldsymbol{x} = \\boldsymbol{b}\n",
    "$$\n",
    "となる．"
   ]
  },
  {
   "cell_type": "code",
   "execution_count": null,
   "metadata": {},
   "outputs": [],
   "source": [
    "# 確認\n",
    "np.dot(A,x)"
   ]
  },
  {
   "cell_type": "markdown",
   "metadata": {},
   "source": [
    "## 連立1次方程式を視覚化する（matplotlibの練習を兼ねて）"
   ]
  },
  {
   "cell_type": "markdown",
   "metadata": {},
   "source": [
    "さきほどの連立一次方程式を考える．\n",
    "$$\n",
    "\\begin{cases}\n",
    "    x+5y=15\\\\\n",
    "    -2x+y=-8\n",
    "\\end{cases}\n",
    "$$"
   ]
  },
  {
   "cell_type": "markdown",
   "metadata": {},
   "source": [
    "式変形すると2本の直線となる．  \n",
    "\n",
    "$$\n",
    "\\begin{cases}\n",
    "    y=-1/5x+3\\\\\n",
    "    y=2x-8\n",
    "\\end{cases}\n",
    "$$\n",
    "\n",
    "つまり，連立一次方程式を解いて(x,y)を求めるのは2本の直線の交点を求めることになる．  \n",
    "（ただし，2本の直線によっては，解が無数にある「不定」と，解が存在しない「不能」の場合がある）"
   ]
  },
  {
   "cell_type": "code",
   "execution_count": null,
   "metadata": {},
   "outputs": [],
   "source": [
    "# グラフ表示したい関数A\n",
    "def mathfuncA(x):\n",
    "    y = -1.0/5.0*x+3.0\n",
    "    return y"
   ]
  },
  {
   "cell_type": "code",
   "execution_count": null,
   "metadata": {},
   "outputs": [],
   "source": [
    "# グラフ表示したい関数B\n",
    "def mathfuncB(x):\n",
    "    y = 2.0*x-8\n",
    "    return y"
   ]
  },
  {
   "cell_type": "code",
   "execution_count": null,
   "metadata": {},
   "outputs": [],
   "source": [
    "mathfuncA(5)"
   ]
  },
  {
   "cell_type": "code",
   "execution_count": null,
   "metadata": {},
   "outputs": [],
   "source": [
    "mathfuncB(5)"
   ]
  },
  {
   "cell_type": "code",
   "execution_count": null,
   "metadata": {},
   "outputs": [],
   "source": [
    "# 作成した関数のグラフを表示する\n",
    "import matplotlib.pyplot as plt\n",
    "\n",
    "# 定義域を設定\n",
    "xmin = 0.0\n",
    "xmax = 8.0\n",
    "num = 100 # xminからxmaxまでをnum個で区切る\n",
    "x = np.linspace(xmin, xmax, num)\n",
    "\n",
    "# 関数から値域を取得\n",
    "y = mathfuncA(x)\n",
    "# 点どうしを直線でつなぐ\n",
    "plt.plot(x, y,color='red')\n",
    "\n",
    "\n",
    "# 関数から値域を取得\n",
    "y = mathfuncB(x)\n",
    "# 点どうしを直線でつなぐ\n",
    "plt.plot(x, y,color='blue')\n",
    "\n",
    "# 適切な表示範囲を指定\n",
    "plt.xlim(xmin, xmax)\n",
    "\n",
    "# グリッド追加\n",
    "plt.grid(True)\n",
    "\n",
    "# 表示\n",
    "plt.show()"
   ]
  },
  {
   "cell_type": "markdown",
   "metadata": {},
   "source": [
    "[講義資料に戻る](https://github.com/crotsu/Deep_Learning_Starting_with_Examples)"
   ]
  },
  {
   "cell_type": "markdown",
   "metadata": {},
   "source": [
    "このページは[このリンク](https://colab.research.google.com/github/crotsu/Deep_Learning_Starting_with_Examples/blob/main/chap2_python/chap2_python.ipynb)よりgoogle colaboratoryで動作させることができる．  "
   ]
  }
 ],
 "metadata": {
  "kernelspec": {
   "display_name": "Python 3 (ipykernel)",
   "language": "python",
   "name": "python3"
  },
  "language_info": {
   "codemirror_mode": {
    "name": "ipython",
    "version": 3
   },
   "file_extension": ".py",
   "mimetype": "text/x-python",
   "name": "python",
   "nbconvert_exporter": "python",
   "pygments_lexer": "ipython3",
   "version": "3.9.16"
  }
 },
 "nbformat": 4,
 "nbformat_minor": 2
}
